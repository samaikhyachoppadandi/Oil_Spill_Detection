{
 "cells": [
  {
   "cell_type": "markdown",
   "metadata": {},
   "source": [
    "#### New image for testing- loading model weights"
   ]
  },
  {
   "cell_type": "code",
   "execution_count": 7,
   "metadata": {},
   "outputs": [],
   "source": [
    "import csv\n",
    "import math\n",
    "import glob\n",
    "import cv2\n",
    "import numpy as np\n",
    "from PIL import Image\n",
    "import numpy as np\n",
    "from keras import Model\n",
    "from keras.applications.mobilenet_v2 import MobileNetV2, preprocess_input\n",
    "from keras.callbacks import ModelCheckpoint, EarlyStopping, ReduceLROnPlateau, Callback\n",
    "from keras.layers import Conv2D, Reshape,GlobalAveragePooling2D,Dense\n",
    "from tensorflow.keras.utils import Sequence\n",
    "from tensorflow.keras.backend import epsilon"
   ]
  },
  {
   "cell_type": "code",
   "execution_count": 8,
   "metadata": {},
   "outputs": [],
   "source": [
    "WEIGHTS_FILE = \"model_training_0.5_1.h5\"\n",
    "IMAGES = \"./Test\"\n",
    "IMAGE_SIZE=96\n",
    "ALPHA = 0.5\n"
   ]
  },
  {
   "cell_type": "markdown",
   "metadata": {},
   "source": [
    "#### model creation"
   ]
  },
  {
   "cell_type": "code",
   "execution_count": 9,
   "metadata": {},
   "outputs": [],
   "source": [
    "def create_model(trainable=False):\n",
    "    model = MobileNetV2(input_shape=(IMAGE_SIZE, IMAGE_SIZE, 3), include_top=False, alpha=ALPHA)\n",
    "\n",
    "    # to freeze layers\n",
    "    for layer in model.layers:\n",
    "        layer.trainable = trainable\n",
    "\n",
    "    out = model.layers[-1].output\n",
    "\n",
    "    x = Conv2D(4, kernel_size=3)(out)\n",
    "    x = Reshape((4,), name=\"coords\")(x)\n",
    "\n",
    "    y = GlobalAveragePooling2D()(out)\n",
    "    y = Dense(2, name=\"classes\", activation=\"softmax\")(y)\n",
    "\n",
    "    return Model(inputs=model.input, outputs=[x, y])"
   ]
  },
  {
   "cell_type": "code",
   "execution_count": 10,
   "metadata": {},
   "outputs": [],
   "source": [
    "model = create_model()\n",
    "model.load_weights(WEIGHTS_FILE)"
   ]
  },
  {
   "cell_type": "markdown",
   "metadata": {},
   "source": [
    "#### prediction display"
   ]
  },
  {
   "cell_type": "code",
   "execution_count": 17,
   "metadata": {},
   "outputs": [
    {
     "name": "stdout",
     "output_type": "stream",
     "text": [
      "[13.0846405 10.799796  82.484314  70.468994 ] [[0.6725313 0.3274687]]\n",
      "x0: 408\n",
      "y0: 229\n",
      "x1: 2986\n",
      "y1: 1726\n",
      "class: [1]\n",
      "2040 3000\n"
     ]
    }
   ],
   "source": [
    "unscaled = cv2.imread(\"./Test/test_4.jpg\")\n",
    "image_height, image_width, _= unscaled.shape\n",
    "\n",
    "image = cv2.resize(unscaled, (IMAGE_SIZE, IMAGE_SIZE))\n",
    "feat_scaled = preprocess_input(np.array(image, dtype=np.float32))\n",
    "\n",
    "region, class_id = model.predict(x=np.array([feat_scaled]))\n",
    "region =  region[0]\n",
    "print(region,class_id)\n",
    "x0 = int(region[0] * image_width / IMAGE_SIZE)\n",
    "y0 = int(region[1]  * image_height / IMAGE_SIZE)\n",
    "\n",
    "x1 = int((region[0] + region[2]) * image_width / IMAGE_SIZE) \n",
    "y1 = int((region[1] + region[3]) * image_height / IMAGE_SIZE) \n",
    "\n",
    "class_id = np.argmax(class_id, axis=1)+1\n",
    "\n",
    "print(\"x0:\",x0)\n",
    "print(\"y0:\",y0)\n",
    "print(\"x1:\",x1)\n",
    "print(\"y1:\",y1)\n",
    "print(\"class:\",class_id)\n",
    "print(image_height,image_width) "
   ]
  },
  {
   "cell_type": "code",
   "execution_count": null,
   "metadata": {},
   "outputs": [],
   "source": [
    "cv2.rectangle(unscaled, (x0, y0), (x1, y1), (255, 0, 0), 2)\n",
    "#cv2.rectangle(unscaled, (x0_, y0_), (x1_, y1_), (0, 225, 0), 2)\n",
    "cv2.putText(unscaled, \"class: {}\".format(class_id[0]), (x0, y0), cv2.FONT_HERSHEY_SIMPLEX, 1, (255,255,255), 2, cv2.LINE_AA)\n",
    "cv2.imshow(\"image\", unscaled)\n",
    "cv2.waitKey(0)\n",
    "cv2.destroyAllWindows()\n"
   ]
  }
 ],
 "metadata": {
  "kernelspec": {
   "display_name": "Python 3 (ipykernel)",
   "language": "python",
   "name": "python3"
  },
  "language_info": {
   "codemirror_mode": {
    "name": "ipython",
    "version": 3
   },
   "file_extension": ".py",
   "mimetype": "text/x-python",
   "name": "python",
   "nbconvert_exporter": "python",
   "pygments_lexer": "ipython3",
   "version": "3.9.7"
  }
 },
 "nbformat": 4,
 "nbformat_minor": 2
}
